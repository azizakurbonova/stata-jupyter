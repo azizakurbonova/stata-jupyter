{
 "cells": [
  {
   "cell_type": "code",
   "execution_count": 22,
   "id": "f8fd2d3f-dc72-4453-a022-b2e9c818f243",
   "metadata": {},
   "outputs": [],
   "source": [
    "import pandas as pd\n",
    "import numpy as np\n",
    "import statsmodels.formula.api as smf\n",
    "from scipy import stats"
   ]
  },
  {
   "cell_type": "code",
   "execution_count": null,
   "id": "a2d15f97-d39a-41ba-8e28-be4c21e4b083",
   "metadata": {},
   "outputs": [],
   "source": [
    "# Data not saved 1-1 in CSV/DTA format, drug labels are different\n",
    "# df = pd.read_csv('cancer.csv')\n",
    "df = pd.read_stata('data/cancer.dta')"
   ]
  },
  {
   "cell_type": "code",
   "execution_count": 59,
   "id": "6c6db985-6522-4169-bcac-5e37f519c651",
   "metadata": {},
   "outputs": [
    {
     "name": "stdout",
     "output_type": "stream",
     "text": [
      "<class 'pandas.core.frame.DataFrame'>\n",
      "RangeIndex: 48 entries, 0 to 47\n",
      "Data columns (total 8 columns):\n",
      " #   Column     Non-Null Count  Dtype   \n",
      "---  ------     --------------  -----   \n",
      " 0   studytime  48 non-null     int8    \n",
      " 1   died       48 non-null     category\n",
      " 2   drug       48 non-null     category\n",
      " 3   age        48 non-null     int8    \n",
      " 4   _st        48 non-null     int8    \n",
      " 5   _d         48 non-null     int8    \n",
      " 6   _t         48 non-null     int8    \n",
      " 7   _t0        48 non-null     int8    \n",
      "dtypes: category(2), int8(6)\n",
      "memory usage: 772.0 bytes\n",
      "None\n",
      "\n",
      "        studytime        age   _st         _d        _t   _t0\n",
      "count   48.00000  48.000000  48.0  48.000000  48.00000  48.0\n",
      "mean    15.50000  55.875000   1.0   0.645833  15.50000   0.0\n",
      "std     10.25629   5.659205   0.0   0.483321  10.25629   0.0\n",
      "min      1.00000  47.000000   1.0   0.000000   1.00000   0.0\n",
      "25%      7.75000  50.750000   1.0   0.000000   7.75000   0.0\n",
      "50%     12.50000  56.000000   1.0   1.000000  12.50000   0.0\n",
      "75%     23.00000  60.000000   1.0   1.000000  23.00000   0.0\n",
      "max     39.00000  67.000000   1.0   1.000000  39.00000   0.0\n",
      "\n",
      "    studytime died     drug  age  _st  _d  _t  _t0\n",
      "0          1  Yes  Placebo   61    1   1   1    0\n",
      "1          1  Yes  Placebo   65    1   1   1    0\n",
      "2          2  Yes  Placebo   59    1   1   2    0\n",
      "3          3  Yes  Placebo   52    1   1   3    0\n",
      "4          4  Yes  Placebo   56    1   1   4    0\n"
     ]
    }
   ],
   "source": [
    "print(df.info())\n",
    "print(\"\\n\", df.describe())\n",
    "print(\"\\n\", df.head())"
   ]
  },
  {
   "cell_type": "code",
   "execution_count": 68,
   "id": "952c0f46-1565-4d48-a37d-fa17b7015a70",
   "metadata": {},
   "outputs": [
    {
     "data": {
      "text/plain": [
       "{'Drug A', 'Drug B', 'Placebo'}"
      ]
     },
     "execution_count": 68,
     "metadata": {},
     "output_type": "execute_result"
    }
   ],
   "source": [
    "set(df.drug.values)"
   ]
  },
  {
   "cell_type": "code",
   "execution_count": 67,
   "id": "f3322d03-d8f2-4c7a-bc4f-ea896365d2ef",
   "metadata": {},
   "outputs": [],
   "source": [
    "# Fix drug labels based on the actual mapping\n",
    "# Map Other -> Drug A, NA/missing -> Drug B\n",
    "drug_map = {\n",
    "    'Placebo': 'Placebo',\n",
    "    'Other': 'Drug A',\n",
    "    'NA': 'Drug B'\n",
    "}\n",
    "df['drug'] = df['drug'].map(drug_map)"
   ]
  },
  {
   "cell_type": "code",
   "execution_count": 69,
   "id": "b1a4cf84-9a27-4cad-8888-2473de2ecda4",
   "metadata": {},
   "outputs": [],
   "source": [
    "# Convert died from Yes/No to 1/0\n",
    "df['died_numeric'] = df['died'].map({'Yes': 1.0, 'No': 0})\n",
    "df['died_numeric'] = pd.to_numeric(df['died_numeric'], errors='coerce').fillna(0).astype(int)\n",
    "\n",
    "# Ensure age and studytime are numeric\n",
    "df['age'] = pd.to_numeric(df['age'], errors='coerce')\n",
    "df['studytime'] = pd.to_numeric(df['studytime'], errors='coerce')"
   ]
  },
  {
   "cell_type": "code",
   "execution_count": 70,
   "id": "27632fc2-6e35-41db-abbe-dbed59dd5b1b",
   "metadata": {},
   "outputs": [],
   "source": [
    "# Create age groups\n",
    "conditions = [\n",
    "    (df['age'] < 50),\n",
    "    (df['age'] >= 50) & (df['age'] < 60),\n",
    "    (df['age'] >= 60) & (df['age'] < 70),\n",
    "    (df['age'] >= 70)\n",
    "]\n",
    "choices = ['Under 50', '50-59', '60-69', '70+']\n",
    "df['age_group'] = np.select(conditions, choices, default=np.nan)\n",
    "\n",
    "# Create survival time in years\n",
    "df['survival_years'] = df['studytime'] / 12\n",
    "\n",
    "# Generate patient ID and enrollment period\n",
    "df['patient_id'] = range(1, len(df) + 1)\n",
    "df['enrollment_period'] = np.ceil(df['patient_id'] / 12)"
   ]
  },
  {
   "cell_type": "code",
   "execution_count": 71,
   "id": "8a239fb3-e391-4c59-bf87-7404ccff48bb",
   "metadata": {},
   "outputs": [
    {
     "name": "stdout",
     "output_type": "stream",
     "text": [
      "         mean_survival_years   mean_age  total_died  n_patients\n",
      "drug                                                           \n",
      "Placebo             0.750000  56.050000          19          20\n",
      "Drug A              1.244048  56.928571           6          14\n",
      "Drug B              2.113095  54.571429           6          14\n"
     ]
    },
    {
     "name": "stderr",
     "output_type": "stream",
     "text": [
      "/state/partition1/job-64644078/ipykernel_3686911/2665152777.py:1: FutureWarning: The default of observed=False is deprecated and will be changed to True in a future version of pandas. Pass observed=False to retain current behavior or observed=True to adopt the future default and silence this warning.\n",
      "  summary_stats = df.groupby('drug').agg({\n"
     ]
    }
   ],
   "source": [
    "summary_stats = df.groupby('drug').agg({\n",
    "    'survival_years': 'mean',\n",
    "    'age': 'mean',\n",
    "    'died_numeric': ['sum', 'count']\n",
    "})\n",
    "summary_stats.columns = ['mean_survival_years', 'mean_age', 'total_died', 'n_patients']\n",
    "print(summary_stats)"
   ]
  },
  {
   "cell_type": "code",
   "execution_count": 75,
   "id": "4ef31806-e02a-42b0-9af2-c9c4d152a57c",
   "metadata": {},
   "outputs": [
    {
     "name": "stderr",
     "output_type": "stream",
     "text": [
      "/state/partition1/job-64644078/ipykernel_3686911/2687001728.py:2: FutureWarning: The default of observed=False is deprecated and will be changed to True in a future version of pandas. Pass observed=False to retain current behavior or observed=True to adopt the future default and silence this warning.\n",
      "  collapsed = df.groupby(['drug', 'age_group']).agg({\n"
     ]
    }
   ],
   "source": [
    "# Collapse data by drug and age group\n",
    "collapsed = df.groupby(['drug', 'age_group']).agg({\n",
    "    'survival_years': 'mean',\n",
    "    'age': 'mean',\n",
    "    'died_numeric': ['sum', 'count']\n",
    "}).reset_index()\n",
    "\n",
    "# Flatten column names\n",
    "collapsed.columns = ['drug', 'age_group', 'mean_survival', 'mean_age', 'n_died', 'n_patients']\n",
    "\n",
    "# Filter out any rows with 70+ age group - not in STATA output\n",
    "# collapsed = collapsed[collapsed['age_group'] != '70+']\n",
    "\n",
    "# Sort to match STATA output order - specify both drug and age_group order\n",
    "drug_order = ['Placebo', 'Drug A', 'Drug B']\n",
    "age_order = ['Under 50', '50-59', '60-69']  # Explicit age group order\n",
    "\n",
    "collapsed['drug'] = pd.Categorical(collapsed['drug'], categories=drug_order, ordered=True)\n",
    "collapsed['age_group'] = pd.Categorical(collapsed['age_group'], categories=age_order, ordered=True)\n",
    "collapsed = collapsed.sort_values(['drug', 'age_group'])"
   ]
  },
  {
   "cell_type": "code",
   "execution_count": null,
   "id": "98e8cf57-d663-4543-ac8b-eeefe34945d6",
   "metadata": {},
   "outputs": [
    {
     "name": "stdout",
     "output_type": "stream",
     "text": [
      "      drug age_group  mean_survival   mean_age  n_died  n_patients\n",
      "2  Placebo  Under 50       1.027778  49.000000       3           3\n",
      "0  Placebo     50-59       0.833333  54.666667      11          12\n",
      "1  Placebo     60-69       0.383333  63.600000       5           5\n",
      "5   Drug A  Under 50       1.375000  48.000000       1           2\n",
      "3   Drug A     50-59       1.476190  54.142857       2           7\n",
      "4   Drug A     60-69       0.866667  64.400000       3           5\n",
      "8   Drug B  Under 50       2.277778  48.333333       0           3\n",
      "6   Drug B     50-59       1.968750  54.625000       5           8\n",
      "7   Drug B     60-69       2.333333  60.666667       1           3\n"
     ]
    }
   ],
   "source": [
    "print(collapsed)\n",
    "collapsed.to_csv('output/cancer_summary_results_jupyter.csv', index=False)"
   ]
  },
  {
   "cell_type": "code",
   "execution_count": null,
   "id": "31de6414-708e-4a35-919f-70fe442d6504",
   "metadata": {},
   "outputs": [
    {
     "name": "stdout",
     "output_type": "stream",
     "text": [
      "mean_survival: max_diff=0.00000008, mean_diff=0.00000003\n",
      "mean_age: max_diff=0.00000200, mean_diff=0.00000090\n"
     ]
    }
   ],
   "source": [
    "# Final check - import CSVs to check same values\n",
    "jupyter_df = pd.read_csv('output/cancer_summary_results_jupyter.csv')\n",
    "stata_df = pd.read_csv('output/cancer_summary_results_stata.csv')  \n",
    "\n",
    "jupyter_sorted = jupyter_df.sort_values(['drug', 'age_group']).reset_index(drop=True)\n",
    "stata_sorted = stata_df.sort_values(['drug', 'age_group']).reset_index(drop=True)\n",
    "\n",
    "# Numerical comparison - same mean values but w/ small floating point difference\n",
    "for col in ['mean_survival', 'mean_age']:\n",
    "    jupyter_vals = jupyter_sorted[col].values\n",
    "    stata_vals = stata_sorted[col].values\n",
    "    max_diff = np.max(np.abs(jupyter_vals - stata_vals))\n",
    "    mean_diff = np.mean(np.abs(jupyter_vals - stata_vals))\n",
    "    print(f\"{col}: max_diff={max_diff:.8f}, mean_diff={mean_diff:.8f}\")"
   ]
  },
  {
   "cell_type": "code",
   "execution_count": null,
   "id": "96dca7c5-cbb3-4324-9a3a-6b13a61a7ed4",
   "metadata": {},
   "outputs": [],
   "source": []
  }
 ],
 "metadata": {
  "kernelspec": {
   "display_name": "Python 3 (with Scratch Packages)",
   "language": "python",
   "name": "python3_scratch"
  },
  "language_info": {
   "codemirror_mode": {
    "name": "ipython",
    "version": 3
   },
   "file_extension": ".py",
   "mimetype": "text/x-python",
   "name": "python",
   "nbconvert_exporter": "python",
   "pygments_lexer": "ipython3",
   "version": "3.12.5"
  }
 },
 "nbformat": 4,
 "nbformat_minor": 5
}
